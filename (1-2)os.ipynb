{
 "cells": [
  {
   "cell_type": "markdown",
   "metadata": {},
   "source": [
    "# 1.2. os 모듈 <p>\n",
    "\n",
    "os 모듈은 한마디로 커맨드라인(python 콘솔 밖)에서 할 수 있는 것들을 하는 데 필요하다. <br>\n",
    "디렉토리와 파일의 탐색, 복사, 삭제, 실행 등, <br>\n",
    "os 모듈을 이용하면 사실상 파이썬만으로 파이썬이 돌아가고 있는 컴퓨터를 통제할 수 있다.\n"
   ]
  },
  {
   "cell_type": "markdown",
   "metadata": {},
   "source": [
    "### listdir <br>\n",
    "\n",
    "유닉스의 ls, 윈도우즈의 dir 같은 명령어라고 할 수 있다.\n",
    "\n",
    "\"바로 접근가능한 경로\"에 무엇이 있는지 확인해 보자."
   ]
  },
  {
   "cell_type": "code",
   "execution_count": 1,
   "metadata": {},
   "outputs": [],
   "source": [
    "import sys\n",
    "import os\n",
    "for path in sys.path:\n",
    "    try:\n",
    "        print(os.listdir(path))\n",
    "        print(\"(in \" + path + \") \\n\")\n",
    "    except:\n",
    "        print(\"(skip \" + path + \") \\n\")"
   ]
  },
  {
   "cell_type": "markdown",
   "metadata": {},
   "source": [
    "이처럼 어떤 파일들을 사용할 수 있는지 한 눈에 볼 수 있다. 실제로 평소에 import 하여 활용하는 파일들이 위에 다 있다."
   ]
  },
  {
   "cell_type": "code",
   "execution_count": 2,
   "metadata": {},
   "outputs": [],
   "source": [
    "print(os.listdir())"
   ]
  },
  {
   "cell_type": "markdown",
   "metadata": {},
   "source": [
    "path를 특정하지 않으면 위와 같이 \"현재 폴더\"에 대해 나온다. <p>"
   ]
  },
  {
   "cell_type": "markdown",
   "metadata": {},
   "source": [
    "### path.exists, shutil.rmtree, mkdir, chdir, getcwd"
   ]
  },
  {
   "cell_type": "markdown",
   "metadata": {},
   "source": [
    "쓸데없는 파일들이 많으므로 우선 새 폴더를 만들어 이동하도록 하자."
   ]
  },
  {
   "cell_type": "code",
   "execution_count": 3,
   "metadata": {},
   "outputs": [
    {
     "name": "stdout",
     "output_type": "stream",
     "text": [
      "['(0-2) Preparation.ipynb', '(1-1)sys.ipynb', '(1-2)os.ipynb', '.ipynb_checkpoints', '20190519_131114.mp4', 'console.log', 'data_1_2', 'data_1_5', 'File_management.ipynb', 'jupyter_notebook.bat', 'music.mp3', 'sub', 'test1.py', 'Untitled.ipynb', '__pycache__']\n",
      "C:\\Users\\2cast\\OneDrive\\2.개발\\jupyter_notebook\\data_1_2\n"
     ]
    }
   ],
   "source": [
    "path = sys.path[0]+\"/data_1_2\"\n",
    "#혹시 있으면 지우고 다시 시작\n",
    "if os.path.exists(path) is True:\n",
    "    from shutil import rmtree\n",
    "    rmtree(path)\n",
    "\n",
    "os.mkdir(path)\n",
    "print(os.listdir())\n",
    "os.chdir(path)\n",
    "print(os.getcwd())"
   ]
  },
  {
   "cell_type": "markdown",
   "metadata": {},
   "source": [
    "폴더를 이동하더라도 sys.path 를 보면 root 폴더(메인 스크립트가 있는 폴더)는 그대로 유지되므로, root 폴더에 있는 파일은 여전히 바로 import나 open할 수 있다. <br>\n",
    "물론 이동한 \"현재폴더\"에 있는 파일들도 마찬가지로 바로 import나 open가능하다."
   ]
  },
  {
   "cell_type": "code",
   "execution_count": 4,
   "metadata": {},
   "outputs": [
    {
     "data": {
      "text/plain": [
       "['C:\\\\Users\\\\2cast\\\\OneDrive\\\\2.개발\\\\jupyter_notebook',\n",
       " 'c:\\\\users\\\\2cast\\\\appdata\\\\local\\\\programs\\\\python\\\\python37\\\\python37.zip',\n",
       " 'c:\\\\users\\\\2cast\\\\appdata\\\\local\\\\programs\\\\python\\\\python37\\\\DLLs',\n",
       " 'c:\\\\users\\\\2cast\\\\appdata\\\\local\\\\programs\\\\python\\\\python37\\\\lib',\n",
       " 'c:\\\\users\\\\2cast\\\\appdata\\\\local\\\\programs\\\\python\\\\python37',\n",
       " '',\n",
       " 'C:\\\\Users\\\\2cast\\\\AppData\\\\Roaming\\\\Python\\\\Python37\\\\site-packages',\n",
       " 'c:\\\\users\\\\2cast\\\\appdata\\\\local\\\\programs\\\\python\\\\python37\\\\lib\\\\site-packages',\n",
       " 'c:\\\\users\\\\2cast\\\\appdata\\\\local\\\\programs\\\\python\\\\python37\\\\lib\\\\site-packages\\\\IPython\\\\extensions',\n",
       " 'C:\\\\Users\\\\2cast\\\\.ipython']"
      ]
     },
     "execution_count": 4,
     "metadata": {},
     "output_type": "execute_result"
    }
   ],
   "source": [
    "sys.path"
   ]
  },
  {
   "cell_type": "code",
   "execution_count": 5,
   "metadata": {},
   "outputs": [
    {
     "data": {
      "text/plain": [
       "[]"
      ]
     },
     "execution_count": 5,
     "metadata": {},
     "output_type": "execute_result"
    }
   ],
   "source": [
    "os.listdir()"
   ]
  },
  {
   "cell_type": "markdown",
   "metadata": {},
   "source": [
    "새 폴더는 당연히 위와 같이 비어 있다. 이제 루프문을 써서 폴더를 마구 만들어 보자."
   ]
  },
  {
   "cell_type": "code",
   "execution_count": 6,
   "metadata": {},
   "outputs": [
    {
     "name": "stdout",
     "output_type": "stream",
     "text": [
      "['0', '1', '2', '3', '4', '5', '6', '7', '8', '9']\n"
     ]
    }
   ],
   "source": [
    "for i in range(10):\n",
    "    os.mkdir(str(i))\n",
    "    for j in range(10):\n",
    "        os.mkdir(str(i)+\"/\"+str(j))\n",
    "print(os.listdir())"
   ]
  },
  {
   "cell_type": "markdown",
   "metadata": {},
   "source": [
    "하위폴더까지 보려면 어떻게 해야 할까? "
   ]
  },
  {
   "cell_type": "code",
   "execution_count": 7,
   "metadata": {},
   "outputs": [
    {
     "name": "stdout",
     "output_type": "stream",
     "text": [
      "['0', '1', '2', '3', '4', '5', '6', '7', '8', '9']\n",
      "['0', '1', '2', '3', '4', '5', '6', '7', '8', '9']\n",
      "['0', '1', '2', '3', '4', '5', '6', '7', '8', '9']\n",
      "['0', '1', '2', '3', '4', '5', '6', '7', '8', '9']\n",
      "['0', '1', '2', '3', '4', '5', '6', '7', '8', '9']\n",
      "['0', '1', '2', '3', '4', '5', '6', '7', '8', '9']\n",
      "['0', '1', '2', '3', '4', '5', '6', '7', '8', '9']\n",
      "['0', '1', '2', '3', '4', '5', '6', '7', '8', '9']\n",
      "['0', '1', '2', '3', '4', '5', '6', '7', '8', '9']\n",
      "['0', '1', '2', '3', '4', '5', '6', '7', '8', '9']\n"
     ]
    }
   ],
   "source": [
    "for dirname in os.listdir():\n",
    "    print(os.listdir(dirname))"
   ]
  },
  {
   "cell_type": "markdown",
   "metadata": {},
   "source": [
    "### walk <br>\n",
    "\n",
    "위처럼 for 문을 써도 되긴 하지만 더 괜찮은 방법이 있다."
   ]
  },
  {
   "cell_type": "code",
   "execution_count": 8,
   "metadata": {},
   "outputs": [
    {
     "name": "stdout",
     "output_type": "stream",
     "text": [
      "./ \n",
      " dirs :  ['0', '1', '2', '3', '4', '5', '6', '7', '8', '9'] \n",
      " files :  [] \n",
      "\n",
      "./0 \n",
      " dirs :  ['0', '1', '2', '3', '4', '5', '6', '7', '8', '9'] \n",
      " files :  [] \n",
      "\n",
      "./1 \n",
      " dirs :  ['0', '1', '2', '3', '4', '5', '6', '7', '8', '9'] \n",
      " files :  [] \n",
      "\n",
      "./2 \n",
      " dirs :  ['0', '1', '2', '3', '4', '5', '6', '7', '8', '9'] \n",
      " files :  [] \n",
      "\n",
      "./3 \n",
      " dirs :  ['0', '1', '2', '3', '4', '5', '6', '7', '8', '9'] \n",
      " files :  [] \n",
      "\n",
      "./4 \n",
      " dirs :  ['0', '1', '2', '3', '4', '5', '6', '7', '8', '9'] \n",
      " files :  [] \n",
      "\n",
      "./5 \n",
      " dirs :  ['0', '1', '2', '3', '4', '5', '6', '7', '8', '9'] \n",
      " files :  [] \n",
      "\n",
      "./6 \n",
      " dirs :  ['0', '1', '2', '3', '4', '5', '6', '7', '8', '9'] \n",
      " files :  [] \n",
      "\n",
      "./7 \n",
      " dirs :  ['0', '1', '2', '3', '4', '5', '6', '7', '8', '9'] \n",
      " files :  [] \n",
      "\n",
      "./8 \n",
      " dirs :  ['0', '1', '2', '3', '4', '5', '6', '7', '8', '9'] \n",
      " files :  [] \n",
      "\n",
      "./9 \n",
      " dirs :  ['0', '1', '2', '3', '4', '5', '6', '7', '8', '9'] \n",
      " files :  [] \n",
      "\n"
     ]
    }
   ],
   "source": [
    "def ls_R(root_path=\"./\"):\n",
    "    for path, dirs, files in os.walk(root_path):\n",
    "        if len(dirs)+len(files) > 0:\n",
    "            print(path, \"\\n dirs : \", dirs, \"\\n files : \" , files, \"\\n\")\n",
    "ls_R()"
   ]
  },
  {
   "cell_type": "markdown",
   "metadata": {},
   "source": [
    "directory와 일반 file까지 구분해가면서 하위 폴더들을 모두 탐색해 준다. <br>\n",
    "파일명, 확장자명을 신경써서 잘 붙여둔다면 원하는 파일들을 모으는 데 정말 유용하게쓸 수 있을 것이다. <p>"
   ]
  },
  {
   "cell_type": "markdown",
   "metadata": {},
   "source": [
    "### remove, rmdir, rmtree"
   ]
  },
  {
   "cell_type": "code",
   "execution_count": 9,
   "metadata": {},
   "outputs": [],
   "source": [
    "def rm_all(root_path=\"./\"):\n",
    "    for path, dirs, files in os.walk(root_path):\n",
    "        for fname in files:\n",
    "            os.remove(path+'/'+fname)\n",
    "        for dname in dirs:\n",
    "            #폴더가 비어있지 않으면 에러가 뜨므로 유의\n",
    "            if len(os.listdir(path+'/'+dname)) is 0:\n",
    "                os.rmdir(path+'/'+dname)\n",
    "rm_all()\n",
    "rm_all()\n",
    "rm_all()\n",
    "\n",
    "ls_R()"
   ]
  },
  {
   "cell_type": "markdown",
   "metadata": {},
   "source": [
    "불필요한 파일과 폴더들은 위와 같이 지워주자. 한번에 안 되더라도 여러 번 돌리면 다 지울 수 있다.\n",
    "<br> 참고로, shutil.rmtree(path) 한줄만 쓰면 위 코드와 같은 효과를 볼 수 있다."
   ]
  },
  {
   "cell_type": "markdown",
   "metadata": {},
   "source": [
    "### makedirs, renames "
   ]
  },
  {
   "cell_type": "code",
   "execution_count": 10,
   "metadata": {},
   "outputs": [
    {
     "name": "stdout",
     "output_type": "stream",
     "text": [
      "./ \n",
      " dirs :  ['animal'] \n",
      " files :  [] \n",
      "\n",
      "./animal \n",
      " dirs :  ['cat', 'dog', 'female_hominoidia', 'male_hominoidia'] \n",
      " files :  [] \n",
      "\n"
     ]
    }
   ],
   "source": [
    "os.makedirs(\"./animal/cat\")\n",
    "os.makedirs(\"./animal/dog\")\n",
    "os.makedirs(\"./animal/male_hominoidia\")\n",
    "os.makedirs(\"./animal/female_hominoidia\")\n",
    "ls_R()"
   ]
  },
  {
   "cell_type": "code",
   "execution_count": 11,
   "metadata": {},
   "outputs": [
    {
     "name": "stdout",
     "output_type": "stream",
     "text": [
      "./ \n",
      " dirs :  ['animal'] \n",
      " files :  [] \n",
      "\n",
      "./animal \n",
      " dirs :  ['cat', 'dog', 'primates'] \n",
      " files :  [] \n",
      "\n",
      "./animal\\primates \n",
      " dirs :  ['man', 'woman'] \n",
      " files :  [] \n",
      "\n"
     ]
    }
   ],
   "source": [
    "os.renames(\"./animal/male_hominoidia\",\"./animal/primates/man\")\n",
    "os.renames(\"./animal/female_hominoidia\",\"./animal/primates/woman\")\n",
    "ls_R()"
   ]
  },
  {
   "cell_type": "code",
   "execution_count": 12,
   "metadata": {},
   "outputs": [
    {
     "name": "stdout",
     "output_type": "stream",
     "text": [
      "./ \n",
      " dirs :  ['animal', 'human'] \n",
      " files :  [] \n",
      "\n",
      "./animal \n",
      " dirs :  ['cat', 'dog'] \n",
      " files :  [] \n",
      "\n",
      "./human \n",
      " dirs :  ['man', 'woman'] \n",
      " files :  [] \n",
      "\n"
     ]
    }
   ],
   "source": [
    "os.renames(\"./animal/primates\", \"./human\")\n",
    "ls_R()"
   ]
  },
  {
   "cell_type": "markdown",
   "metadata": {},
   "source": [
    "### os.stat, time.gmtime, time.asctime\n",
    "\n",
    "stat을 이용하면 파일에 대한 정보를 알 수 있다. <br>\n",
    "이것을 이용하여 ls -l 같은 것을 구현해 보자."
   ]
  },
  {
   "cell_type": "code",
   "execution_count": 13,
   "metadata": {},
   "outputs": [
    {
     "data": {
      "text/html": [
       "<div>\n",
       "<style scoped>\n",
       "    .dataframe tbody tr th:only-of-type {\n",
       "        vertical-align: middle;\n",
       "    }\n",
       "\n",
       "    .dataframe tbody tr th {\n",
       "        vertical-align: top;\n",
       "    }\n",
       "\n",
       "    .dataframe thead th {\n",
       "        text-align: right;\n",
       "    }\n",
       "</style>\n",
       "<table border=\"1\" class=\"dataframe\">\n",
       "  <thead>\n",
       "    <tr style=\"text-align: right;\">\n",
       "      <th></th>\n",
       "      <th>path</th>\n",
       "      <th>size</th>\n",
       "      <th>mtime</th>\n",
       "    </tr>\n",
       "  </thead>\n",
       "  <tbody>\n",
       "    <tr>\n",
       "      <th>0</th>\n",
       "      <td>./</td>\n",
       "      <td>4096</td>\n",
       "      <td>Sat Dec 28 13:42:32 2019</td>\n",
       "    </tr>\n",
       "    <tr>\n",
       "      <th>1</th>\n",
       "      <td>.//(0-2) Preparation.ipynb</td>\n",
       "      <td>775</td>\n",
       "      <td>Sat Dec 28 06:03:45 2019</td>\n",
       "    </tr>\n",
       "    <tr>\n",
       "      <th>2</th>\n",
       "      <td>.//(1-1)sys.ipynb</td>\n",
       "      <td>10010</td>\n",
       "      <td>Sat Dec 28 09:45:22 2019</td>\n",
       "    </tr>\n",
       "    <tr>\n",
       "      <th>3</th>\n",
       "      <td>.//(1-2)os.ipynb</td>\n",
       "      <td>34312</td>\n",
       "      <td>Sat Dec 28 13:41:37 2019</td>\n",
       "    </tr>\n",
       "    <tr>\n",
       "      <th>4</th>\n",
       "      <td>.//20190519_131114.mp4</td>\n",
       "      <td>86330929</td>\n",
       "      <td>Fri Dec 27 15:38:06 2019</td>\n",
       "    </tr>\n",
       "    <tr>\n",
       "      <th>5</th>\n",
       "      <td>.//console.log</td>\n",
       "      <td>26</td>\n",
       "      <td>Sat Dec 28 05:04:17 2019</td>\n",
       "    </tr>\n",
       "    <tr>\n",
       "      <th>6</th>\n",
       "      <td>.//File_management.ipynb</td>\n",
       "      <td>3431</td>\n",
       "      <td>Fri Dec 27 17:02:39 2019</td>\n",
       "    </tr>\n",
       "    <tr>\n",
       "      <th>7</th>\n",
       "      <td>.//jupyter_notebook.bat</td>\n",
       "      <td>68</td>\n",
       "      <td>Fri Dec 27 16:32:17 2019</td>\n",
       "    </tr>\n",
       "    <tr>\n",
       "      <th>8</th>\n",
       "      <td>.//music.mp3</td>\n",
       "      <td>3880684</td>\n",
       "      <td>Mon Feb  8 13:26:10 2016</td>\n",
       "    </tr>\n",
       "    <tr>\n",
       "      <th>9</th>\n",
       "      <td>.//test1.py</td>\n",
       "      <td>144</td>\n",
       "      <td>Sat Dec 28 13:28:16 2019</td>\n",
       "    </tr>\n",
       "    <tr>\n",
       "      <th>10</th>\n",
       "      <td>.//Untitled.ipynb</td>\n",
       "      <td>555</td>\n",
       "      <td>Sat Dec 28 05:58:45 2019</td>\n",
       "    </tr>\n",
       "    <tr>\n",
       "      <th>11</th>\n",
       "      <td>./.ipynb_checkpoints</td>\n",
       "      <td>4096</td>\n",
       "      <td>Sat Dec 28 06:03:02 2019</td>\n",
       "    </tr>\n",
       "    <tr>\n",
       "      <th>12</th>\n",
       "      <td>./.ipynb_checkpoints/(0-2) Preparation-checkpo...</td>\n",
       "      <td>775</td>\n",
       "      <td>Sat Dec 28 06:03:45 2019</td>\n",
       "    </tr>\n",
       "    <tr>\n",
       "      <th>13</th>\n",
       "      <td>./.ipynb_checkpoints/(1-1)sys-checkpoint.ipynb</td>\n",
       "      <td>10010</td>\n",
       "      <td>Sat Dec 28 09:45:22 2019</td>\n",
       "    </tr>\n",
       "    <tr>\n",
       "      <th>14</th>\n",
       "      <td>./.ipynb_checkpoints/(1-2)os-checkpoint.ipynb</td>\n",
       "      <td>43138</td>\n",
       "      <td>Sat Dec 28 13:37:35 2019</td>\n",
       "    </tr>\n",
       "    <tr>\n",
       "      <th>15</th>\n",
       "      <td>./.ipynb_checkpoints/File_management-checkpoin...</td>\n",
       "      <td>555</td>\n",
       "      <td>Fri Dec 27 16:46:57 2019</td>\n",
       "    </tr>\n",
       "    <tr>\n",
       "      <th>16</th>\n",
       "      <td>./.ipynb_checkpoints/Untitled-checkpoint.ipynb</td>\n",
       "      <td>555</td>\n",
       "      <td>Sat Dec 28 05:58:45 2019</td>\n",
       "    </tr>\n",
       "    <tr>\n",
       "      <th>17</th>\n",
       "      <td>./data_1_2</td>\n",
       "      <td>4096</td>\n",
       "      <td>Sat Dec 28 13:42:32 2019</td>\n",
       "    </tr>\n",
       "    <tr>\n",
       "      <th>18</th>\n",
       "      <td>./data_1_2\\animal</td>\n",
       "      <td>4096</td>\n",
       "      <td>Sat Dec 28 13:42:32 2019</td>\n",
       "    </tr>\n",
       "    <tr>\n",
       "      <th>19</th>\n",
       "      <td>./data_1_2\\animal\\cat</td>\n",
       "      <td>0</td>\n",
       "      <td>Sat Dec 28 13:42:32 2019</td>\n",
       "    </tr>\n",
       "    <tr>\n",
       "      <th>20</th>\n",
       "      <td>./data_1_2\\animal\\dog</td>\n",
       "      <td>0</td>\n",
       "      <td>Sat Dec 28 13:42:32 2019</td>\n",
       "    </tr>\n",
       "    <tr>\n",
       "      <th>21</th>\n",
       "      <td>./data_1_2\\human</td>\n",
       "      <td>0</td>\n",
       "      <td>Sat Dec 28 13:42:32 2019</td>\n",
       "    </tr>\n",
       "    <tr>\n",
       "      <th>22</th>\n",
       "      <td>./data_1_2\\human\\man</td>\n",
       "      <td>0</td>\n",
       "      <td>Sat Dec 28 13:42:32 2019</td>\n",
       "    </tr>\n",
       "    <tr>\n",
       "      <th>23</th>\n",
       "      <td>./data_1_2\\human\\woman</td>\n",
       "      <td>0</td>\n",
       "      <td>Sat Dec 28 13:42:32 2019</td>\n",
       "    </tr>\n",
       "    <tr>\n",
       "      <th>24</th>\n",
       "      <td>./data_1_5</td>\n",
       "      <td>4096</td>\n",
       "      <td>Sat Dec 28 10:22:49 2019</td>\n",
       "    </tr>\n",
       "    <tr>\n",
       "      <th>25</th>\n",
       "      <td>./data_1_5\\.ipynb_checkpoints</td>\n",
       "      <td>0</td>\n",
       "      <td>Sat Dec 28 10:22:49 2019</td>\n",
       "    </tr>\n",
       "    <tr>\n",
       "      <th>26</th>\n",
       "      <td>./data_1_5\\__pycache__</td>\n",
       "      <td>0</td>\n",
       "      <td>Sat Dec 28 10:17:54 2019</td>\n",
       "    </tr>\n",
       "    <tr>\n",
       "      <th>27</th>\n",
       "      <td>./data_1_5\\__pycache__/newfile.cpython-37.pyc</td>\n",
       "      <td>257</td>\n",
       "      <td>Sat Dec 28 10:17:54 2019</td>\n",
       "    </tr>\n",
       "    <tr>\n",
       "      <th>28</th>\n",
       "      <td>./sub</td>\n",
       "      <td>0</td>\n",
       "      <td>Sat Dec 28 08:48:19 2019</td>\n",
       "    </tr>\n",
       "    <tr>\n",
       "      <th>29</th>\n",
       "      <td>./sub\\sub2</td>\n",
       "      <td>0</td>\n",
       "      <td>Sat Dec 28 08:48:19 2019</td>\n",
       "    </tr>\n",
       "    <tr>\n",
       "      <th>30</th>\n",
       "      <td>./__pycache__</td>\n",
       "      <td>0</td>\n",
       "      <td>Fri Dec 27 09:05:11 2019</td>\n",
       "    </tr>\n",
       "    <tr>\n",
       "      <th>31</th>\n",
       "      <td>./__pycache__/test.cpython-37.pyc</td>\n",
       "      <td>276</td>\n",
       "      <td>Fri Dec 27 09:05:11 2019</td>\n",
       "    </tr>\n",
       "  </tbody>\n",
       "</table>\n",
       "</div>"
      ],
      "text/plain": [
       "                                                 path      size  \\\n",
       "0                                                  ./      4096   \n",
       "1                          .//(0-2) Preparation.ipynb       775   \n",
       "2                                   .//(1-1)sys.ipynb     10010   \n",
       "3                                    .//(1-2)os.ipynb     34312   \n",
       "4                              .//20190519_131114.mp4  86330929   \n",
       "5                                      .//console.log        26   \n",
       "6                            .//File_management.ipynb      3431   \n",
       "7                             .//jupyter_notebook.bat        68   \n",
       "8                                        .//music.mp3   3880684   \n",
       "9                                         .//test1.py       144   \n",
       "10                                  .//Untitled.ipynb       555   \n",
       "11                               ./.ipynb_checkpoints      4096   \n",
       "12  ./.ipynb_checkpoints/(0-2) Preparation-checkpo...       775   \n",
       "13     ./.ipynb_checkpoints/(1-1)sys-checkpoint.ipynb     10010   \n",
       "14      ./.ipynb_checkpoints/(1-2)os-checkpoint.ipynb     43138   \n",
       "15  ./.ipynb_checkpoints/File_management-checkpoin...       555   \n",
       "16     ./.ipynb_checkpoints/Untitled-checkpoint.ipynb       555   \n",
       "17                                         ./data_1_2      4096   \n",
       "18                                  ./data_1_2\\animal      4096   \n",
       "19                              ./data_1_2\\animal\\cat         0   \n",
       "20                              ./data_1_2\\animal\\dog         0   \n",
       "21                                   ./data_1_2\\human         0   \n",
       "22                               ./data_1_2\\human\\man         0   \n",
       "23                             ./data_1_2\\human\\woman         0   \n",
       "24                                         ./data_1_5      4096   \n",
       "25                      ./data_1_5\\.ipynb_checkpoints         0   \n",
       "26                             ./data_1_5\\__pycache__         0   \n",
       "27      ./data_1_5\\__pycache__/newfile.cpython-37.pyc       257   \n",
       "28                                              ./sub         0   \n",
       "29                                         ./sub\\sub2         0   \n",
       "30                                      ./__pycache__         0   \n",
       "31                  ./__pycache__/test.cpython-37.pyc       276   \n",
       "\n",
       "                       mtime  \n",
       "0   Sat Dec 28 13:42:32 2019  \n",
       "1   Sat Dec 28 06:03:45 2019  \n",
       "2   Sat Dec 28 09:45:22 2019  \n",
       "3   Sat Dec 28 13:41:37 2019  \n",
       "4   Fri Dec 27 15:38:06 2019  \n",
       "5   Sat Dec 28 05:04:17 2019  \n",
       "6   Fri Dec 27 17:02:39 2019  \n",
       "7   Fri Dec 27 16:32:17 2019  \n",
       "8   Mon Feb  8 13:26:10 2016  \n",
       "9   Sat Dec 28 13:28:16 2019  \n",
       "10  Sat Dec 28 05:58:45 2019  \n",
       "11  Sat Dec 28 06:03:02 2019  \n",
       "12  Sat Dec 28 06:03:45 2019  \n",
       "13  Sat Dec 28 09:45:22 2019  \n",
       "14  Sat Dec 28 13:37:35 2019  \n",
       "15  Fri Dec 27 16:46:57 2019  \n",
       "16  Sat Dec 28 05:58:45 2019  \n",
       "17  Sat Dec 28 13:42:32 2019  \n",
       "18  Sat Dec 28 13:42:32 2019  \n",
       "19  Sat Dec 28 13:42:32 2019  \n",
       "20  Sat Dec 28 13:42:32 2019  \n",
       "21  Sat Dec 28 13:42:32 2019  \n",
       "22  Sat Dec 28 13:42:32 2019  \n",
       "23  Sat Dec 28 13:42:32 2019  \n",
       "24  Sat Dec 28 10:22:49 2019  \n",
       "25  Sat Dec 28 10:22:49 2019  \n",
       "26  Sat Dec 28 10:17:54 2019  \n",
       "27  Sat Dec 28 10:17:54 2019  \n",
       "28  Sat Dec 28 08:48:19 2019  \n",
       "29  Sat Dec 28 08:48:19 2019  \n",
       "30  Fri Dec 27 09:05:11 2019  \n",
       "31  Fri Dec 27 09:05:11 2019  "
      ]
     },
     "execution_count": 13,
     "metadata": {},
     "output_type": "execute_result"
    }
   ],
   "source": [
    "os.chdir(sys.path[0])\n",
    "\n",
    "import pandas as pd\n",
    "from time import gmtime, asctime\n",
    "\n",
    "ls = []\n",
    "for path, dirs, files in os.walk(\"./\"):\n",
    "    st = os.stat(path)\n",
    "    tm = gmtime()\n",
    "    ls.append([path, st.st_size, asctime(gmtime(st.st_mtime))])\n",
    "    for fname in files:\n",
    "        fpath = path + \"/\" + fname\n",
    "        st = os.stat(fpath)\n",
    "        tm = gmtime()\n",
    "        ls.append([fpath, st.st_size, asctime(gmtime(st.st_mtime))])        \n",
    "pd.DataFrame(ls, columns=[\"path\",\"size\",\"mtime\"])"
   ]
  },
  {
   "cell_type": "markdown",
   "metadata": {},
   "source": [
    "### os.system, os.startfile<br>\n",
    "\n",
    "os.system 은 cmd나 \"실행\" 창에서 쓸법한 명령어를 실행시킬 수 있고,<br>\n",
    "os.startfile 은 파일을 실행시킬 수 있다."
   ]
  },
  {
   "cell_type": "code",
   "execution_count": 14,
   "metadata": {},
   "outputs": [],
   "source": [
    "os.system(\"explorer\")\n",
    "os.startfile(\"music.mp3\")"
   ]
  },
  {
   "cell_type": "code",
   "execution_count": 15,
   "metadata": {},
   "outputs": [],
   "source": [
    "python = sys.executable"
   ]
  }
 ],
 "metadata": {
  "kernelspec": {
   "display_name": "Python 3",
   "language": "python",
   "name": "python3"
  },
  "language_info": {
   "codemirror_mode": {
    "name": "ipython",
    "version": 3
   },
   "file_extension": ".py",
   "mimetype": "text/x-python",
   "name": "python",
   "nbconvert_exporter": "python",
   "pygments_lexer": "ipython3",
   "version": "3.7.2"
  }
 },
 "nbformat": 4,
 "nbformat_minor": 2
}
