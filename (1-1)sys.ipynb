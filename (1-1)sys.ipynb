{
 "cells": [
  {
   "cell_type": "markdown",
   "metadata": {},
   "source": [
    "# 1-1. sys 모듈 다루기 <p>\n",
    "\n",
    "수신제가 후 치국평천하 라는 말이 있듯, 코드를 짜려면 먼저 코드를 돌리는 주체를 자유롭게 통제할 수 있어야 함이 마땅하다.<br>\n",
    "sys 모듈은 파이썬 인터프리터 자체가 작동하는 방식을 다룬다. <br>\n",
    "실제로 자주 쓰일 법한 함수들을 위주로 정리해 보았다."
   ]
  },
  {
   "cell_type": "markdown",
   "metadata": {},
   "source": [
    "### sys.path"
   ]
  },
  {
   "cell_type": "code",
   "execution_count": 1,
   "metadata": {},
   "outputs": [
    {
     "data": {
      "text/plain": [
       "['C:\\\\Users\\\\2cast\\\\OneDrive\\\\2.개발\\\\jupyter_notebook',\n",
       " 'c:\\\\users\\\\2cast\\\\appdata\\\\local\\\\programs\\\\python\\\\python37\\\\python37.zip',\n",
       " 'c:\\\\users\\\\2cast\\\\appdata\\\\local\\\\programs\\\\python\\\\python37\\\\DLLs',\n",
       " 'c:\\\\users\\\\2cast\\\\appdata\\\\local\\\\programs\\\\python\\\\python37\\\\lib',\n",
       " 'c:\\\\users\\\\2cast\\\\appdata\\\\local\\\\programs\\\\python\\\\python37',\n",
       " '',\n",
       " 'C:\\\\Users\\\\2cast\\\\AppData\\\\Roaming\\\\Python\\\\Python37\\\\site-packages',\n",
       " 'c:\\\\users\\\\2cast\\\\appdata\\\\local\\\\programs\\\\python\\\\python37\\\\lib\\\\site-packages',\n",
       " 'c:\\\\users\\\\2cast\\\\appdata\\\\local\\\\programs\\\\python\\\\python37\\\\lib\\\\site-packages\\\\win32',\n",
       " 'c:\\\\users\\\\2cast\\\\appdata\\\\local\\\\programs\\\\python\\\\python37\\\\lib\\\\site-packages\\\\win32\\\\lib',\n",
       " 'c:\\\\users\\\\2cast\\\\appdata\\\\local\\\\programs\\\\python\\\\python37\\\\lib\\\\site-packages\\\\Pythonwin',\n",
       " 'c:\\\\users\\\\2cast\\\\appdata\\\\local\\\\programs\\\\python\\\\python37\\\\lib\\\\site-packages\\\\IPython\\\\extensions',\n",
       " 'C:\\\\Users\\\\2cast\\\\.ipython']"
      ]
     },
     "execution_count": 1,
     "metadata": {},
     "output_type": "execute_result"
    }
   ],
   "source": [
    "import sys\n",
    "sys.path"
   ]
  },
  {
   "cell_type": "markdown",
   "metadata": {},
   "source": [
    "위의 디렉토리들은 모두 \"현재 폴더\"로 간주된다. (중복되는 파일이 있으면 어떻게 될까? 우선순위가 있을까? 궁금하다.)"
   ]
  },
  {
   "cell_type": "markdown",
   "metadata": {},
   "source": [
    "### sys.maxsize<p>"
   ]
  },
  {
   "cell_type": "code",
   "execution_count": 2,
   "metadata": {},
   "outputs": [
    {
     "name": "stdout",
     "output_type": "stream",
     "text": [
      "9223372036854775807\n",
      "63.0\n"
     ]
    }
   ],
   "source": [
    "print(sys.maxsize)\n",
    "from math import log\n",
    "print(log(sys.maxsize,2))"
   ]
  },
  {
   "cell_type": "markdown",
   "metadata": {},
   "source": [
    "64 비트 운영체제이므로 파이썬은 2^63 까지의 정수밖에 다룰 수 없다."
   ]
  },
  {
   "cell_type": "markdown",
   "metadata": {},
   "source": [
    "### sys.stdout <p>\n",
    "\n",
    "print는 꼭 cmd 에 해야 하는 것은 아니다. <br>\n",
    "애초에 jupyter notebook 만 해도 웹브라우저에 띄우고 있지 않은가? <br>\n",
    "이것을 지정하는 것이 sys.stdout 이다. <br>\n",
    "default 값(to cmd)은 sys.__stdout__ 에 backup 되어 있는데, <br>\n",
    "jupyter notebook 에는 맞지 않으므로 다음과 같이 쓴다."
   ]
  },
  {
   "cell_type": "code",
   "execution_count": 3,
   "metadata": {},
   "outputs": [
    {
     "name": "stdout",
     "output_type": "stream",
     "text": [
      "Print on the jupyter notebook\n"
     ]
    }
   ],
   "source": [
    "#backup\n",
    "stdout_ipy = sys.stdout\n",
    "\n",
    "#change the stdout\n",
    "f = open(\"console.log\",'w')\n",
    "sys.stdout = f\n",
    "print(\"Print on the console.log\")\n",
    "f.close()\n",
    "\n",
    "#restore\n",
    "sys.stdout = stdout_ipy\n",
    "print(\"Print on the jupyter notebook\")"
   ]
  },
  {
   "cell_type": "markdown",
   "metadata": {},
   "source": [
    "### 데이터 읽기 <p>\n",
    "\n",
    "아래와 같이 하면 파일을 바이너리로 읽을 수 있다. (t 옵션: 텍스트, b 옵션: 바이너리) <br>\n",
    "데이터는 원래 바이너리로 되어 있으므로 이렇게 하면 어떤 파일이든 일단 읽을 수는 있다. <br>\n",
    "hex editor 없이, 편집을 통해 게임 캐릭터의 능력치를 변경하거나 <br>\n",
    "자체적인 파일 압축 프로그램, 코덱을 제작하는 것도 가능할 것이다."
   ]
  },
  {
   "cell_type": "code",
   "execution_count": 4,
   "metadata": {},
   "outputs": [
    {
     "name": "stdout",
     "output_type": "stream",
     "text": [
      "[b'E*\\xdc\\xac\\x8e\\xae', b'\\xce\\x96\\xd9\\xfb\\x0e\\xdal\\xb1\\xfd*_\\x94\\x96V\\xc1\\xb6\\xff\\xfb\\x92d\\xe4\\x80\\x03tX`i\"\\x1f\\xae@\\xc8\\xdbJ', b'\\x85\\x0e\\x8e\\xfdGfg\\xa4\\xc7\\xf9\\x0f\\x9e-h\\xb0\\x1f\\xc6-\\x12\\x08N\\xa2n\\xb5o\\x93U\\xb4f\\xc3\\xdfz\\xf3^\\xbe?\\x8do\\xf5\\xe6\\xbe', b\"\\x1b\\xfd'\\x80\\x00AQ2D`\\x01s\\xcf7<b\\xa9\\x99\\xcaY\\xca\\x9dy%\\x13\\xd2\\x07\\x81\\xd9\\xb6\\xc2\\xde\\x89\\xc7\\x0e\\xa0e\\xea\\x7f\\x7f\\xdf\\x1f\\xff\\xfc\\x87J\\x0fe\\xacF\\xa9hr\\xf2<r:\\x8c\\xde@\\x96}]}\\xbd\\xd4\\xff\\xf9\\xab\\x08\\x83f@I\\x14[\\x8d\\xb8\\xe4\\xb7\\xf5\\x18G\\xca\\x1c\\x13\\x9b\\x93QMy>\\xdf\\x81\\xe8\\x12-\\x1e\\x02'\\x0f\\xc1\\x18\\xa2gB\\xbd\\xde\\xe0\\xf3f\\x9e\\xbc\\xe1\\x81\\xa2\\xd6\\x16GQ)\\x04\\xc0\\xf5\\xb9Q\\xd00O\\xc7\\xe3~q\\xb7[\\xd0\\xd4\\xee\\xfa\\xb1\\xd3&LG}\\x91>\\x97\\x1e\\xd2\\xc46\\x13\\x10\\xcb%\\xd5t\\xb1\\xaf\\xf3IQ\\x12\\xf3U\\x1fVTDw\\xf5\\xc9ZQC\\x87\", b'S\\xcfX\\x97\\xaf\\xf7Z\\xfb\\x8c0jv', b'\\x00\\xad\\xc8\\x88\\x81\"\\xf3\\xcb\\x8a', b'D\\xa1\\xf9Sl\\x9dfF\\xaf?\\x1e\\xda\\x11\\x19\\xbeC.\\x90\\xb6\\xfd1^\\x1f\\xde\\xdf\\x04\\xc3\\xc2x\\xec\\x9d\\xca\\x11\\xb8\\xad\\xab!\\x11y\\x08\\xe5\\x7f\\xff\\xff\\xef\\xe9\\xff\\xf5\\xff\\xff\\xff\\xff\\xff\\xfe\\xbf\\xdb\\xd3\\xf6\\xf6\\xc5\\xe7V!\\x02\\x9aq\\xc6\\xe3\\x8e]\\xd6\\xe7\"\")\\xac\\xde46Qx&\\xc5*\"\\xb8E\\xd8\\x9b\\xda\\xadP\\xaf#\\x83|z<\\x95\\x03\\xd8\\xb4\\xa74L,\\xb2\\x95\\x03\\x10`0%Z\\x1e\\xa5\\xa4\\x18\\xe5\\xb0\\xd1j\\x91\\xe3\\xb3\\x83|s\\x8aB!f\\xd4\\x8f\\x84\\xbbJ\\xb5\\xb4a\\xdd\\xf5\\x03\\xa1,\\x8e&\\xaf\\xa1\\x91\\xc1', b'\\x92\\xf6\\xa7\\x7f\\xff\\xfb\\x92d\\xee\\x00\\x03\\xd3g]\\xd1e7\\xacD\\xec\\xabm,\\x05\\xf7\\x8e\\xcd\\x95{\\xa4\\x95\\x0e9!2mh\\x90+\\x06\\xf1R\\x9f\\xa2E\\x95', b'M\\xc5-\\xb3\\xb3\\xbb&\\xec\\x91o\\x15o\\xb4O-\\x15)\\x1f\\xf1\\\\_\"G\\xc2h\\x80\\x92r7\\x04\\x80\\x01`w\\xc9\\x8c\\xa8\\x96\\x8c\\x97\\x1e1\\x86\\x96\\xb4\\x98\\xa1\\x02AN\\x1f\\x89\\xf1F\\x0ez\\x85\\xeb\\xea\\x9d\\xdc:]5j?\\xff\\xff\\xc8\\xe6\\x1es\\x8eW\\xe1ly\\xd2!', b'\\xf3\\xa1\\xcd_\\xff\\xff\\xff\\xf0a', b'_\\xb7#\\x92\\xdf\\xa8\\\\\\x8bLR\\xa4\\xb3\\xadD\\xf4\\xdd\\x96\\xda\\xa4\\xda\\xd2\\x19k\\x92\\xdbh\\x1e\\xf42\\x9f\\x13\\xac\\x16\\xf7\\x010x\\xac\\\\;8`\\x11\\x1a\\xff\\xba\\x94\\xb1\\x07H\\xba\\xdb\\x0e\\xdc7\\xc4x\\xfe\\xce\\xd2j\\xd3\\x99Y\\xf5\\x88\\x18\\xb9X\\xc3M', b'gY\\xae\\xead\\xe5/&\\x87\\x9f{\\xd2\\xd7\\x8e\\x89\\xfa\\xa7\\xb6D\\xa1\\x14\\x94VV\\xa3V\\xaa\\xe3\\x8f\\x14q\\xb2;\\x89\\xb2\\x96\\xec\\xebT\\xb1\\xea\\xe1@\\xefi\\x1b%9$\\xb6L\\xe4\\xb9\\xcb\\xa3\\xf6\\x111', b'\\x04D\\x1b\\xaa?\\xb17}\\x02\\x9a\\x98g\\x96!\\xe7\\xb0Y\\xf9\\x1d\\xb0\\x9f\\x8e\\xed\\x1c\\xce\\x15\\xac\\xb1\\xe2WO\\xfd\\x90\\x95(\\xf9\\x03*\\x04\\x01\\x9d&\\x93N\\\\J\\x1b\\x8e\\xd1\\x95S\\xa07\\x9e\\xf77s\\x87&`,\\xe4\\xea\\x0e\\xb81_\\x14ow\\xfc\\xdf\\xe0\\xec\\xf7!\\x8f\\x8fo\\x02o\\x99\\x8d\\x0847g\\xeb\\x8b\\xca', b'x{\\xc0xn%', b'\\xf3]\\x8dL\\xa1\\xabF\\x8cnI66\\xac~\\xbc\\xcf\\xdel\\xbf\\xfc>\\xcc65\\x12\\xbc8\\xe8\\xe6;\\x88\\xb5\\xfd]\\xe2\\xba_VbhJ\\xda\\xae\\xed\\x99\\xca\\xad$\\xc9\\xa7\\x9f\\x91R\\xfb\\xfc\\x14\\xff\\xfb\\x92d\\xee\\x00\\x13\\xebd]\\xe9/D,@', b'\\x8b\\x9d,\\x02\\xf7\\x8e\\xe9\\x93yE\\xa0\\xb5\\xf8\\xca\\x93ot\\xc4\\x16^\\xf5P\\x00\\xa3\\xfc', b'\\xb0@\\x1dv\\x03(\\x0e\\x8d\\xb2\\xdd\\x0e\\xbd=\\xc69\\xa5C\\xc2\\x9d\\xd4\\x13[>\\\\\\xcf(\\xcf\\x97rK\\xbb~k\\x9b9T\\xda\\x87\\x94\\xcc\\xbdKE1P\\x94\\xca\\x13\\x8c\\xc2\\x80\\xca\\x7f\\xff@B_\\xed\\xc6\\xe4\\xb7\\xf5\\xde-\\x02\\x85\\xe2\\xc5\\xca291)L\\x84\\x80\\xa4\\xe8>M(\\x08\\xbd`\\xe6je\\x93f\\x8f\\x9a\\x82\\xcd\\x9a=VV\\xc4\\xc3xH\\xeaZFS\\x83Ha5a8\\xfe}HfXEZ\\xf5\\xa4\\xde\\x87\\x97\\x17\\xc0\\xd8{\\x83\\xe0\\xf2njz\\x87\\xdcO\\x8c4\\xdcu\\x15\\xf0Z\\xf7\\xc5\\xcf|\\x13V\\xb9\\x1c\\x04\\xa0\\xc4\\xa1er?\\x85', b']WR?:\\x86Dy\\x199x\\xf4\\xf3>$\\xd4J\\xdblz\\xcc\\x14T\\xb5\\xd6\\xfd\\xdc\\xf9\\xdbi\\xfbh\\xfb\\x86W\\x94\\xafk\\x04\\xb1P\\x9a\\x1f?\\xf4\\xff\\x83Jeg\\xcc6T\\xba\\x08\\xf4.\\xf1A\\x15&', b'\\xa6\\xa2\\x99\\x97\\x1c\\x9c\\x17\\x19UUUUUUUUUUUUUUUUUIk\\xfd\\xc7\\x1d\\x97~B\\xe6\\xf5b\\x17\\xca\\xe0\\x8a\\x04TqI\\xd2h\\xeeCf;\\x84q\\xf0G)\\x11fY\\xeea2\\x1f\\xa8\\xb5\\xfav\\x93\\x85$~Os\\xa6\\xb5+R>\\xf1*s\\xf8\\xf2\\x85\\xd40\\xc2\\x83\\xfae', b'\\x9c\\xedV?6\\xa2O[\\xb99']\n"
     ]
    }
   ],
   "source": [
    "f = open(\"music.mp3\", \"rb\")\n",
    "binary_data = f.read().split()\n",
    "print(binary_data[2000:2020])"
   ]
  },
  {
   "cell_type": "markdown",
   "metadata": {},
   "source": [
    "mp3 파일의 raw data 는 원래 이렇게 되어 있다."
   ]
  }
 ],
 "metadata": {
  "kernelspec": {
   "display_name": "Python 3",
   "language": "python",
   "name": "python3"
  },
  "language_info": {
   "codemirror_mode": {
    "name": "ipython",
    "version": 3
   },
   "file_extension": ".py",
   "mimetype": "text/x-python",
   "name": "python",
   "nbconvert_exporter": "python",
   "pygments_lexer": "ipython3",
   "version": "3.7.5"
  }
 },
 "nbformat": 4,
 "nbformat_minor": 2
}
